{
 "cells": [
  {
   "cell_type": "markdown",
   "id": "73a09110",
   "metadata": {},
   "source": [
    "# Table of Contents\n",
    "\n",
    "* [Introduction](#1)\n",
    "* [Workspace Preparation](#2)\n",
    "* [Data Preparation and Features Processing](#3)\n",
    "* [Getting x_train, x_test, y_train, y_test](#4)\n",
    "* [MLFlow workspace preparation and Use](#5)\n",
    "* [Conclusions](#6)\n",
    "* [References](#7)"
   ]
  },
  {
   "cell_type": "markdown",
   "id": "a3f6d0b8",
   "metadata": {},
   "source": [
    "# Introduction\n",
    "\n",
    "> Nota: Este Jupyter Notebook en la mayor medida esta en Ingles. Se encuentra en español las partes del contexto y habra comentarios con spanglish. ;)"
   ]
  },
  {
   "cell_type": "markdown",
   "id": "human-marks",
   "metadata": {},
   "source": [
    "### Escenario del Notebook\n",
    "\n",
    "- Una empresa activa en Big Data y Data Science desea contratar científicos de datos entre las personas que aprueben exitosamente algunos cursos impartidos por la empresa. Muchas personas se inscriben en su capacitación. La empresa quiere saber cuáles de estos candidatos realmente desean trabajar para la empresa después de la capacitación o si están buscando un nuevo empleo, ya que esto ayuda a reducir los costos y el tiempo, así como la calidad de la capacitación o la planificación de los cursos y la categorización de los candidatos. La información relacionada con la demografía, la educación y la experiencia está disponible a partir de la inscripción y matrícula de los candidatos.\n",
    "\n",
    "- Este conjunto de datos está diseñado para comprender los factores que llevan a una persona a dejar su trabajo actual, también para investigaciones de recursos humanos. Utilizando el modelo o modelos que utilicen las credenciales actuales, la demografía y los datos de experiencia, **se predecirá la probabilidad de que un candidato busque un nuevo empleo o trabaje para la empresa, además de interpretar los factores que afectan la decisión del empleado.** \n",
    "\n",
    "- Todos los datos se dividen en conjuntos de entrenamiento y prueba. \n",
    "\n",
    "- El objetivo no está incluido en la prueba, pero se cuenta con el archivo de datos de los valores objetivo de prueba para tareas relacionadas. \n",
    "\n",
    "- También se proporciona una muestra de envío correspondiente al identificador de inscrito en el conjunto de prueba con las columnas: enrollee_id, target.\n"
   ]
  },
  {
   "cell_type": "markdown",
   "id": "30234859",
   "metadata": {},
   "source": [
    "# Workspace preparation"
   ]
  },
  {
   "cell_type": "code",
   "execution_count": 1,
   "id": "subsequent-anthropology",
   "metadata": {},
   "outputs": [],
   "source": [
    "#%matplotlib inline\n",
    "#%config Completer.use_jedi=False"
   ]
  },
  {
   "cell_type": "code",
   "execution_count": 2,
   "id": "annoying-sociology",
   "metadata": {},
   "outputs": [],
   "source": [
    "from pathlib import Path\n",
    "from urllib.parse import urlparse\n",
    "\n",
    "import pandas as pd\n",
    "from sklearn.preprocessing import LabelEncoder\n",
    "from sklearn.model_selection import train_test_split\n",
    "from sklearn.linear_model import LogisticRegression\n",
    "from sklearn.tree import DecisionTreeClassifier\n",
    "from sklearn.ensemble import RandomForestClassifier\n",
    "from sklearn.metrics import (accuracy_score, precision_score, recall_score, f1_score,\n",
    "                             roc_auc_score, classification_report)\n",
    "import mlflow\n",
    "import mlflow.sklearn"
   ]
  },
  {
   "cell_type": "markdown",
   "id": "4f8c6131",
   "metadata": {},
   "source": [
    "# Data Preparation and Features Processing"
   ]
  },
  {
   "cell_type": "code",
   "execution_count": 3,
   "id": "strategic-parameter",
   "metadata": {},
   "outputs": [],
   "source": [
    "data = pd.read_csv(Path(\"../data/aug_train.csv\"))\n",
    "targets = data[[\"target\"]]\n",
    "data.drop([\"enrollee_id\", \"target\"], inplace=True, axis=1)"
   ]
  },
  {
   "cell_type": "code",
   "execution_count": 4,
   "id": "worse-headquarters",
   "metadata": {},
   "outputs": [],
   "source": [
    "categorical_features = []\n",
    "numerical_features = []\n",
    "\n",
    "for column in data.columns:\n",
    "    dtype = str(data[column].dtype)\n",
    "    if dtype in [\"float64\", \"int64\"]:\n",
    "        numerical_features.append(column)\n",
    "    else:\n",
    "        categorical_features.append(column)"
   ]
  },
  {
   "cell_type": "code",
   "execution_count": 5,
   "id": "computational-browser",
   "metadata": {},
   "outputs": [],
   "source": [
    "for categorical_feature in categorical_features:\n",
    "    data[categorical_feature].fillna('missing', inplace=True)"
   ]
  },
  {
   "cell_type": "code",
   "execution_count": 6,
   "id": "atmospheric-volume",
   "metadata": {},
   "outputs": [],
   "source": [
    "for categorical_feature in categorical_features:\n",
    "    le = LabelEncoder()\n",
    "    data[categorical_feature] = le.fit_transform(data[categorical_feature])"
   ]
  },
  {
   "cell_type": "markdown",
   "id": "2cec0272",
   "metadata": {},
   "source": [
    "## Getting x_train, x_test, y_train, y_test"
   ]
  },
  {
   "cell_type": "code",
   "execution_count": 7,
   "id": "liable-diameter",
   "metadata": {},
   "outputs": [],
   "source": [
    "x_train, x_test, y_train, y_test = train_test_split(data.values, \n",
    "                                                    targets.values.ravel(), \n",
    "                                                    test_size=0.3, \n",
    "                                                    random_state=2021,\n",
    "                                                    stratify=targets.values)"
   ]
  },
  {
   "cell_type": "code",
   "execution_count": 8,
   "id": "painful-diagnosis",
   "metadata": {},
   "outputs": [
    {
     "name": "stdout",
     "output_type": "stream",
     "text": [
      "(13410, 12) (5748, 12)\n"
     ]
    }
   ],
   "source": [
    "print(x_train.shape, x_test.shape)"
   ]
  },
  {
   "cell_type": "code",
   "execution_count": 9,
   "id": "collect-clark",
   "metadata": {},
   "outputs": [
    {
     "name": "stdout",
     "output_type": "stream",
     "text": [
      "(13410,) (5748,)\n"
     ]
    }
   ],
   "source": [
    "print(y_train.shape, y_test.shape)"
   ]
  },
  {
   "cell_type": "markdown",
   "id": "bd39bf36",
   "metadata": {},
   "source": [
    "# MLFlow workspace preparation and Use"
   ]
  },
  {
   "cell_type": "code",
   "execution_count": 10,
   "id": "5288f83f",
   "metadata": {},
   "outputs": [],
   "source": [
    "mlflow_uri_from_aws = str(input(\"Cual es la URL de instancia de EC2\"))\n",
    "#\"http://3.226.165.98:5000/\""
   ]
  },
  {
   "cell_type": "code",
   "execution_count": 11,
   "id": "substantial-comedy",
   "metadata": {},
   "outputs": [],
   "source": [
    "mlflow.set_tracking_uri(mlflow_uri_from_aws)"
   ]
  },
  {
   "cell_type": "code",
   "execution_count": 12,
   "id": "nervous-aquatic",
   "metadata": {},
   "outputs": [],
   "source": [
    "tracking_uri = mlflow.get_tracking_uri()"
   ]
  },
  {
   "cell_type": "code",
   "execution_count": 13,
   "id": "comprehensive-future",
   "metadata": {},
   "outputs": [
    {
     "data": {
      "text/plain": [
       "'http://3.226.165.98:5000/'"
      ]
     },
     "execution_count": 13,
     "metadata": {},
     "output_type": "execute_result"
    }
   ],
   "source": [
    "tracking_uri"
   ]
  },
  {
   "cell_type": "markdown",
   "id": "f642594b",
   "metadata": {},
   "source": [
    "### Adjusting resources metadata"
   ]
  },
  {
   "cell_type": "code",
   "execution_count": null,
   "id": "be060df8",
   "metadata": {},
   "outputs": [],
   "source": [
    "import mlflow.data\n",
    "import pandas as pd\n",
    "from mlflow.data.pandas_dataset import PandasDataset\n",
    "\n",
    "#Train dataset URL\n",
    "dataset_source_url=\"https://www.kaggle.com/datasets/arashnic/hr-analytics-job-change-of-data-scientists?resource=download&select=aug_train.csv\"\n",
    "\n",
    "#Using mlflow.data.pandas_dataset, to log_input dataset instead of artifact\n",
    "dataset = mlflow.data.pandas_dataset.from_pandas(data, source=dataset_source_url)"
   ]
  },
  {
   "cell_type": "markdown",
   "id": "bff43cfd",
   "metadata": {},
   "source": [
    "## Part1: Run preparation for Random Forest Model"
   ]
  },
  {
   "cell_type": "code",
   "execution_count": null,
   "id": "69cef1bd",
   "metadata": {},
   "outputs": [],
   "source": [
    "experiment_name_formlflow = str(input(\"Cual es el nombre de tu experimento ?:\"))\n",
    "\"01B3_MFlow_LR_train\"\n"
   ]
  },
  {
   "cell_type": "code",
   "execution_count": null,
   "id": "56cdbbd8",
   "metadata": {},
   "outputs": [],
   "source": [
    "print(experiment_name_formlflow)"
   ]
  },
  {
   "cell_type": "code",
   "execution_count": null,
   "id": "472ff67e",
   "metadata": {},
   "outputs": [],
   "source": [
    "from mlflow import MlflowClient\n",
    "\n",
    "# Create an experiment with a name that is unique and case sensitive.\n",
    "client = MlflowClient()\n",
    "\n",
    "#experiment_name_formlflow = \"01Basic_MFlow_LR_train\"\n",
    "# Create an experiment name, which must be unique and case sensitive\n",
    "experiment_id = client.create_experiment(\n",
    "    experiment_name_formlflow\n",
    ")\n",
    "\n",
    "# Fetch experiment metadata information\n",
    "experiment = client.get_experiment(experiment_id)\n",
    "print(\"Name: {}\".format(experiment.name))\n",
    "print(\"Experiment_id: {}\".format(experiment.experiment_id))\n",
    "print(\"Artifact Location: {}\".format(experiment.artifact_location))\n",
    "print(\"Tags: {}\".format(experiment.tags))\n",
    "print(\"Lifecycle_stage: {}\".format(experiment.lifecycle_stage))"
   ]
  },
  {
   "cell_type": "code",
   "execution_count": null,
   "id": "2e9a9c22",
   "metadata": {},
   "outputs": [],
   "source": [
    "# start run here"
   ]
  },
  {
   "cell_type": "markdown",
   "id": "68a10df5",
   "metadata": {},
   "source": [
    "## Checking runs"
   ]
  },
  {
   "cell_type": "code",
   "execution_count": 27,
   "id": "0033d2d1",
   "metadata": {},
   "outputs": [
    {
     "name": "stdout",
     "output_type": "stream",
     "text": [
      "1\n",
      "<Run: data=<RunData: metrics={'accuracy': 0.7352122477383438,\n",
      " 'auc': 0.7208662878564284,\n",
      " 'f1': 0.5658870507701085,\n",
      " 'precision': 0.4785335262904004,\n",
      " 'recall': 0.6922540125610607}, params={'algo': 'Logistic Regression',\n",
      " 'class_weight': 'balanced',\n",
      " 'compute': 'local',\n",
      " 'dataset': 'kaggle-dataset',\n",
      " 'dataset_path': '../data/aug_train.csv\"',\n",
      " 'dataset_url': 'https://www.kaggle.com/datasets/arashnic/hr-analytics-job-change-of-data-scientists?resource=download&select=aug_train.csv',\n",
      " 'dataset_version': '1.0',\n",
      " 'max_iter': '1000'}, tags={'mlflow.log-model.history': '[{\"run_id\": \"a44df8eaac0f4248a23b24b6bae2aa0f\", '\n",
      "                             '\"artifact_path\": \"model\", \"utc_time_created\": '\n",
      "                             '\"2023-07-13 16:13:25.602876\", \"flavors\": '\n",
      "                             '{\"python_function\": {\"model_path\": \"model.pkl\", '\n",
      "                             '\"predict_fn\": \"predict\", \"loader_module\": '\n",
      "                             '\"mlflow.sklearn\", \"python_version\": \"3.8.3\", '\n",
      "                             '\"env\": {\"conda\": \"conda.yaml\", \"virtualenv\": '\n",
      "                             '\"python_env.yaml\"}}, \"sklearn\": '\n",
      "                             '{\"pickled_model\": \"model.pkl\", '\n",
      "                             '\"sklearn_version\": \"0.22.1\", '\n",
      "                             '\"serialization_format\": \"cloudpickle\", \"code\": '\n",
      "                             'null}}, \"model_uuid\": '\n",
      "                             '\"d056b85273f34f308112253fa3295654\", '\n",
      "                             '\"mlflow_version\": \"2.4.2\"}]',\n",
      " 'mlflow.runName': 'caring-lamb-790',\n",
      " 'mlflow.source.name': '/opt/miniconda3/envs/mlflow_local/lib/python3.8/site-packages/ipykernel_launcher.py',\n",
      " 'mlflow.source.type': 'LOCAL',\n",
      " 'mlflow.user': 'camilamv'}>, info=<RunInfo: artifact_uri='s3://mlflow-artifact-store-awscday/23/a44df8eaac0f4248a23b24b6bae2aa0f/artifacts', end_time=1689264808269, experiment_id='23', lifecycle_stage='active', run_id='a44df8eaac0f4248a23b24b6bae2aa0f', run_name='caring-lamb-790', run_uuid='a44df8eaac0f4248a23b24b6bae2aa0f', start_time=1689264802665, status='FINISHED', user_id='camilamv'>, inputs=<RunInputs: dataset_inputs=[]>>\n"
     ]
    }
   ],
   "source": [
    "from mlflow.entities import ViewType\n",
    "\n",
    "run = MlflowClient().search_runs(\n",
    "    experiment_ids=\"23\",\n",
    "    filter_string=\"\",\n",
    "    run_view_type=ViewType.ACTIVE_ONLY,\n",
    "    order_by=[\"metrics.accuracy DESC\"],\n",
    ")\n",
    "\n",
    "print(len(run))\n",
    "print(run[0])"
   ]
  },
  {
   "cell_type": "code",
   "execution_count": 53,
   "id": "8c775c71",
   "metadata": {},
   "outputs": [
    {
     "name": "stdout",
     "output_type": "stream",
     "text": [
      "Dataset name: dataset\n",
      "Dataset digest: b5ad9a5d\n",
      "Dataset profile: {\"num_rows\": 19158, \"num_elements\": 229896}\n",
      "Dataset schema: {\"mlflow_colspec\": [{\"type\": \"string\", \"name\": \"city\"}, {\"type\": \"double\", \"name\": \"city_development_index\"}, {\"type\": \"string\", \"name\": \"gender\"}, {\"type\": \"string\", \"name\": \"relevent_experience\"}, {\"type\": \"string\", \"name\": \"enrolled_university\"}, {\"type\": \"string\", \"name\": \"education_level\"}, {\"type\": \"string\", \"name\": \"major_discipline\"}, {\"type\": \"string\", \"name\": \"experience\"}, {\"type\": \"string\", \"name\": \"company_size\"}, {\"type\": \"string\", \"name\": \"company_type\"}, {\"type\": \"string\", \"name\": \"last_new_job\"}, {\"type\": \"long\", \"name\": \"training_hours\"}]}\n"
     ]
    }
   ],
   "source": [
    "#Getting dataset information\n",
    "dataset_info = run.inputs.dataset_inputs[0].dataset\n",
    "print(f\"Dataset name: {dataset_info.name}\")\n",
    "print(f\"Dataset digest: {dataset_info.digest}\")\n",
    "print(f\"Dataset profile: {dataset_info.profile}\")\n",
    "print(f\"Dataset schema: {dataset_info.schema}\")"
   ]
  },
  {
   "cell_type": "code",
   "execution_count": 54,
   "id": "225198b0",
   "metadata": {},
   "outputs": [
    {
     "data": {
      "text/plain": [
       "'d5927bf6e30d472595068813b30ffc80'"
      ]
     },
     "execution_count": 54,
     "metadata": {},
     "output_type": "execute_result"
    }
   ],
   "source": [
    "#Checking last active run\n",
    "run = mlflow.last_active_run()\n",
    "run.info.run_id"
   ]
  },
  {
   "cell_type": "markdown",
   "id": "bfef0341",
   "metadata": {},
   "source": [
    "## Part2: Loading model from artifact to use"
   ]
  },
  {
   "cell_type": "code",
   "execution_count": null,
   "id": "38c1542e",
   "metadata": {},
   "outputs": [],
   "source": []
  },
  {
   "cell_type": "markdown",
   "id": "5282892d",
   "metadata": {},
   "source": [
    "# Conclusions"
   ]
  },
  {
   "cell_type": "code",
   "execution_count": null,
   "id": "68471a08",
   "metadata": {},
   "outputs": [],
   "source": []
  },
  {
   "cell_type": "markdown",
   "id": "b85cdadb",
   "metadata": {},
   "source": [
    "# References"
   ]
  },
  {
   "cell_type": "code",
   "execution_count": null,
   "id": "147f63ff",
   "metadata": {},
   "outputs": [],
   "source": []
  },
  {
   "cell_type": "markdown",
   "id": "8e146013",
   "metadata": {},
   "source": [
    "# Other key functions and Info"
   ]
  },
  {
   "cell_type": "code",
   "execution_count": null,
   "id": "2578bab2",
   "metadata": {},
   "outputs": [],
   "source": []
  },
  {
   "cell_type": "code",
   "execution_count": null,
   "id": "ddbe52d9",
   "metadata": {},
   "outputs": [],
   "source": []
  },
  {
   "cell_type": "code",
   "execution_count": null,
   "id": "8aae1abf",
   "metadata": {},
   "outputs": [],
   "source": []
  }
 ],
 "metadata": {
  "kernelspec": {
   "display_name": "Python 3",
   "language": "python",
   "name": "python3"
  },
  "language_info": {
   "codemirror_mode": {
    "name": "ipython",
    "version": 3
   },
   "file_extension": ".py",
   "mimetype": "text/x-python",
   "name": "python",
   "nbconvert_exporter": "python",
   "pygments_lexer": "ipython3",
   "version": "3.8.3"
  }
 },
 "nbformat": 4,
 "nbformat_minor": 5
}
